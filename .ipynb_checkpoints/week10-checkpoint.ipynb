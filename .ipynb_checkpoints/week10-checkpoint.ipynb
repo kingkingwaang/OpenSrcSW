{
 "cells": [
  {
   "cell_type": "code",
   "execution_count": 3,
   "id": "cc783024",
   "metadata": {},
   "outputs": [
    {
     "name": "stdout",
     "output_type": "stream",
     "text": [
      "죽는 날까지 하늘을 우러러\n",
      "한 점 부끄럼이 없기를,\n",
      "잎새에 이는 바람에도\n",
      "너는 괴로워했다.\n",
      "별을 노래하는 마음으로\n",
      "모든 죽어가는 것을 사랑해야지\n",
      "그리고 너한테 주어진 길을 \n",
      "걸어가야겠다.\n",
      "오늘 밤에도 별이 바람에 스치운다.\n"
     ]
    }
   ],
   "source": [
    "#실습문제 1번\n",
    "\n",
    "str1 = \"\"\"   죽는 날까지 하늘을 우러러\n",
    "한 점 부끄럼이 없기를,\n",
    "잎새에 이는 바람에도\n",
    "나는 괴로워했다.\n",
    "별을 노래하는 마음으로\n",
    "모든 죽어가는 것을 사랑해야지\n",
    "그리고 나한테 주어진 길을 \n",
    "걸어가야겠다.\n",
    "오늘 밤에도 별이 바람에 스치운다.\"\"\"\n",
    "str1 = str1.strip()\n",
    "str1 = str1.replace(\"나\",\"너\")\n",
    "print(str1)"
   ]
  },
  {
   "cell_type": "code",
   "execution_count": 13,
   "id": "31e74eb1",
   "metadata": {},
   "outputs": [
    {
     "name": "stdout",
     "output_type": "stream",
     "text": [
      "Numbers=?13 14 141 24 333 123\n",
      "MAX =  333\n"
     ]
    }
   ],
   "source": [
    "#실습문제 2번\n",
    "\n",
    "str2 = (input(\"Numbers=?\"))\n",
    "list0 = str2.split()\n",
    "\n",
    "max = int(list0[0])\n",
    "\n",
    "for str0 in list0:\n",
    "    tmp = int(str0)\n",
    "    if max < tmp:\n",
    "        max = tmp\n",
    "\n",
    "print(\"MAX = \",max)"
   ]
  },
  {
   "cell_type": "code",
   "execution_count": 16,
   "id": "17f1ce39",
   "metadata": {},
   "outputs": [
    {
     "name": "stdout",
     "output_type": "stream",
     "text": [
      "\"abc def\" is encoded into \"efg!bcd\"\n",
      "\"efg!bcd\" is decoded into \"abc def\"\n"
     ]
    }
   ],
   "source": [
    "#실습문제 3번\n",
    "def conv_asc(str, num):\n",
    "    new_str = \"\"\n",
    "    for i in str:\n",
    "        code = ord(i)\n",
    "        new_str += chr(code+num)\n",
    "    return new_str\n",
    "\n",
    "def encoding(str, key):\n",
    "    list1 = str.split()\n",
    "    list1 = list1[::-1]\n",
    "    new_str =\" \".join(list1)\n",
    "    return conv_asc(new_str, key)\n",
    "\n",
    "def decoding(str, key):\n",
    "    str = conv_asc(str, key*-1)\n",
    "    list2 = str.split()\n",
    "    list2 = list2[::-1]\n",
    "    new_str = \" \".join(list2)\n",
    "    return new_str\n",
    "\n",
    "\n",
    "str1 = \"abc def\"\n",
    "\n",
    "enc_str = encoding(str1, 1)\n",
    "print(\"\\\"\" + str1 + \"\\\" is encoded into \\\"\" + enc_str + \"\\\"\")\n",
    "\n",
    "dec_str = decoding(enc_str,1)\n",
    "print(\"\\\"\" + enc_str + \"\\\" is decoded into \\\"\" + dec_str + \"\\\"\")\n",
    "\n"
   ]
  },
  {
   "cell_type": "code",
   "execution_count": null,
   "id": "d6dfd380",
   "metadata": {},
   "outputs": [],
   "source": []
  }
 ],
 "metadata": {
  "kernelspec": {
   "display_name": "Python 3 (ipykernel)",
   "language": "python",
   "name": "python3"
  },
  "language_info": {
   "codemirror_mode": {
    "name": "ipython",
    "version": 3
   },
   "file_extension": ".py",
   "mimetype": "text/x-python",
   "name": "python",
   "nbconvert_exporter": "python",
   "pygments_lexer": "ipython3",
   "version": "3.10.5"
  }
 },
 "nbformat": 4,
 "nbformat_minor": 5
}
