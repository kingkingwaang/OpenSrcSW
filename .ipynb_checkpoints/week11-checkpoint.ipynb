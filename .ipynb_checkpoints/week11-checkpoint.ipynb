{
 "cells": [
  {
   "cell_type": "code",
   "execution_count": 13,
   "id": "b130fcfc",
   "metadata": {},
   "outputs": [
    {
     "name": "stdout",
     "output_type": "stream",
     "text": [
      "파이썬 2\n",
      "파일 2\n",
      "읽기 2\n",
      "예제입니다. 2\n",
      "다양한 1\n",
      "메소드를 1\n",
      "공부해 1\n",
      "보세요. 1\n",
      "실력이 1\n",
      "팍팍 1\n",
      "늘 1\n",
      "거예요~ 1\n",
      "단어 1\n",
      "수를 1\n",
      "카운트하는 1\n",
      "실습 1\n"
     ]
    }
   ],
   "source": [
    "f = open('README.txt', 'r')\n",
    "\n",
    "dic = {}\n",
    "for line in f:\n",
    "    \n",
    "    line = line.strip()\n",
    "    words = line.split()\n",
    "    \n",
    "    for w in words:\n",
    "        if w in dic:\n",
    "            dic[w] += 1\n",
    "        else:\n",
    "            dic[w] = 1\n",
    "\n",
    "for w in dic:\n",
    "    print(w, dic[w])"
   ]
  },
  {
   "cell_type": "code",
   "execution_count": 7,
   "id": "fcd46b25",
   "metadata": {},
   "outputs": [
    {
     "name": "stdout",
     "output_type": "stream",
     "text": [
      "0\n",
      "( 3   3 )\n",
      "( 0   0 )\n"
     ]
    }
   ],
   "source": [
    "#박스를 생성할때 포인트를 인자로 받는다\n",
    "\n",
    "class Point:\n",
    "    x = 0\n",
    "    y = 0\n",
    "    def __init__(self, x = 0, y = 0):\n",
    "        self.x = x\n",
    "        self.y = y\n",
    "    def move(self, dx,dy):\n",
    "        self.x = self.x + dx\n",
    "        self.y = self.y + dy\n",
    "    def show(self):\n",
    "        print('(', self.x , \" \", self.y, \")\")\n",
    "        \n",
    "class Box(Point):\n",
    "    def __init__(self,p1,p2):\n",
    "        self.p1 = p1\n",
    "        self.p2 = p2\n",
    "    def move(self,dx,dy):\n",
    "        self.p1.move(dx,dy)\n",
    "        self.p2.move(dx,dy)\n",
    "    def show(self):\n",
    "        self.p1.show()\n",
    "        self.p2.show()\n",
    "        \n",
    "a = Point()\n",
    "b = Point()\n",
    "print(a.x)\n",
    "\n",
    "a.move(3,3)\n",
    "\n",
    "box = Box(a,b)\n",
    "\n",
    "box.show()\n",
    "\n"
   ]
  },
  {
   "cell_type": "code",
   "execution_count": null,
   "id": "b8ee7d81",
   "metadata": {},
   "outputs": [],
   "source": []
  }
 ],
 "metadata": {
  "kernelspec": {
   "display_name": "Python 3 (ipykernel)",
   "language": "python",
   "name": "python3"
  },
  "language_info": {
   "codemirror_mode": {
    "name": "ipython",
    "version": 3
   },
   "file_extension": ".py",
   "mimetype": "text/x-python",
   "name": "python",
   "nbconvert_exporter": "python",
   "pygments_lexer": "ipython3",
   "version": "3.10.5"
  }
 },
 "nbformat": 4,
 "nbformat_minor": 5
}
