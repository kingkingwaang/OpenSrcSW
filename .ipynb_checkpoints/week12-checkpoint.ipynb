{
 "cells": [
  {
   "cell_type": "code",
   "execution_count": 70,
   "id": "e470ad26",
   "metadata": {},
   "outputs": [
    {
     "name": "stdout",
     "output_type": "stream",
     "text": [
      "일교차가 가장 큰날\n",
      "2021-04-21\n",
      "최저기온이 가장 낮은날\n",
      "2021-01-08\n",
      "일교차가 가장 큰날\n",
      "2021-07-24\n"
     ]
    }
   ],
   "source": [
    "import csv\n",
    "\n",
    "f = open('seoul.csv',encoding = 'utf-8')\n",
    "\n",
    "data = csv.reader(f)\n",
    "header = next(data)\n",
    "buffer = 0.0\n",
    "date = \" \"\n",
    "max_temp = 0.0\n",
    "max_date = \" \"\n",
    "low_temp = 0.0\n",
    "low_date = \" \"\n",
    "\n",
    "for row in data:\n",
    "    if (float(row[4]) - float(row[3])) > buffer:\n",
    "        buffer = float(row[4]) - float(row[3])\n",
    "        date = row[0]\n",
    "    if float(row[4]) > max_temp:\n",
    "        max_temp = float(row[4])\n",
    "        max_date = row[0]\n",
    "    if float(row[3]) < low_temp:\n",
    "        low_temp = float(row[3])\n",
    "        low_date = row[0]\n",
    "print(\"일교차가 가장 큰날\")\n",
    "print(date)\n",
    "print(\"최저기온이 가장 낮은날\")\n",
    "print(low_date)\n",
    "print(\"일교차가 가장 큰날\")\n",
    "print(max_date)\n",
    "f.close()"
   ]
  },
  {
   "cell_type": "code",
   "execution_count": 71,
   "id": "26dc3872",
   "metadata": {
    "scrolled": false
   },
   "outputs": [
    {
     "name": "stdout",
     "output_type": "stream",
     "text": [
      "이용객이 가장많은 역 순위\n",
      "1. 2호선 ( 71915842 )\n",
      "2. 7호선 ( 35885086 )\n",
      "3. 5호선 ( 33270279 )\n",
      "이용객이 가장적은 역 순위\n",
      "1. 장항선 ( 704759 )\n",
      "2. 경강선 ( 1597653 )\n",
      "3. 경춘선 ( 1967432 )\n"
     ]
    }
   ],
   "source": [
    "import csv\n",
    "\n",
    "f = open('subway.csv')\n",
    "tf = open('subway.csv')\n",
    "\n",
    "data = csv.reader(f)\n",
    "data2 = csv.reader(tf)\n",
    "header = next(data)\n",
    "header2 = next(data2)\n",
    "\n",
    "name_buffer = []\n",
    "a = 0\n",
    "for i in data:\n",
    "    name_buffer.append(i[1])\n",
    "    \n",
    "name_list = []\n",
    "for v in name_buffer:\n",
    "    if v not in name_list:\n",
    "        name_list.append(v)\n",
    "a = 0\n",
    "temp = 0\n",
    "buffer = []\n",
    "l_temp = 0\n",
    "for i in data2:    \n",
    "    i[4] = i[4].replace(',','')\n",
    "    i[5] = i[5].replace(',','')\n",
    "    if i[1] == name_list[a]:\n",
    "        temp += (int(i[4]) + int(i[5]))\n",
    "        l_temp = temp\n",
    "    elif i[1] != name_list[a]:\n",
    "        buffer.append(temp)\n",
    "        temp = 0\n",
    "        temp += (int(i[4]) + int(i[5]))\n",
    "        a+=1\n",
    "buffer.append(l_temp)\n",
    "\n",
    "\n",
    "r_buffer = []\n",
    "a = 0\n",
    "for i in buffer:\n",
    "    r_buffer.append([i,name_list[a]])\n",
    "    a+=1\n",
    "r_buffer.sort()\n",
    "\n",
    "print(\"이용객이 가장많은 역 순위\")\n",
    "print(\"1.\", r_buffer[24][1], \"(\", r_buffer[24][0],\")\")\n",
    "print(\"2.\", r_buffer[23][1], \"(\", r_buffer[23][0],\")\")\n",
    "print(\"3.\", r_buffer[22][1], \"(\", r_buffer[22][0],\")\")\n",
    "print(\"이용객이 가장적은 역 순위\")\n",
    "print(\"1.\", r_buffer[0][1], \"(\", r_buffer[0][0],\")\")\n",
    "print(\"2.\", r_buffer[1][1], \"(\", r_buffer[1][0],\")\")\n",
    "print(\"3.\", r_buffer[2][1], \"(\", r_buffer[2][0],\")\")\n",
    "      \n",
    "f.close()\n",
    "tf.close()\n",
    "\n"
   ]
  }
 ],
 "metadata": {
  "kernelspec": {
   "display_name": "Python 3 (ipykernel)",
   "language": "python",
   "name": "python3"
  },
  "language_info": {
   "codemirror_mode": {
    "name": "ipython",
    "version": 3
   },
   "file_extension": ".py",
   "mimetype": "text/x-python",
   "name": "python",
   "nbconvert_exporter": "python",
   "pygments_lexer": "ipython3",
   "version": "3.10.5"
  }
 },
 "nbformat": 4,
 "nbformat_minor": 5
}
