{
 "cells": [
  {
   "cell_type": "code",
   "execution_count": 1,
   "id": "68520a51",
   "metadata": {},
   "outputs": [
    {
     "name": "stdout",
     "output_type": "stream",
     "text": [
      "7시간 36분\n"
     ]
    }
   ],
   "source": [
    "#실습문제 1번\n",
    "\n",
    "total = 456\n",
    "minute = 456%60\n",
    "hour = 456//60\n",
    "\n",
    "print(\"%d시간 %d분\"%(hour,minute))"
   ]
  },
  {
   "cell_type": "code",
   "execution_count": 3,
   "id": "47d3db82",
   "metadata": {},
   "outputs": [
    {
     "name": "stdout",
     "output_type": "stream",
     "text": [
      "['김철수', '이영희', '임꺽정', '홍길동']\n",
      "김철수 2.8\n"
     ]
    }
   ],
   "source": [
    "#실습문제 2번\n",
    "scores = {\"홍길동\":3.5, \"임꺽정\":4.0, \"김철수\":2.8, \"이영희\":3.9}\n",
    "data = scores.keys()\n",
    "data_list = list(data)\n",
    "data_list.sort()\n",
    "print(data_list)\n",
    "\n",
    "k = data_list[0]\n",
    "v = scores[k]\n",
    "print(k,v)\n"
   ]
  }
 ],
 "metadata": {
  "kernelspec": {
   "display_name": "Python 3 (ipykernel)",
   "language": "python",
   "name": "python3"
  },
  "language_info": {
   "codemirror_mode": {
    "name": "ipython",
    "version": 3
   },
   "file_extension": ".py",
   "mimetype": "text/x-python",
   "name": "python",
   "nbconvert_exporter": "python",
   "pygments_lexer": "ipython3",
   "version": "3.10.4"
  }
 },
 "nbformat": 4,
 "nbformat_minor": 5
}
